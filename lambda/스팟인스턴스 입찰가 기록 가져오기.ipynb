{
 "cells": [
  {
   "cell_type": "code",
   "execution_count": 1,
   "metadata": {
    "collapsed": true,
    "deletable": true,
    "editable": true
   },
   "outputs": [],
   "source": [
    "import boto3\n",
    "from pprint import pprint\n",
    "from datetime import datetime\n",
    "from pandas import DataFrame\n",
    "import pandas as pd"
   ]
  },
  {
   "cell_type": "code",
   "execution_count": 2,
   "metadata": {
    "collapsed": true,
    "deletable": true,
    "editable": true
   },
   "outputs": [],
   "source": [
    "client = boto3.client('ec2')"
   ]
  },
  {
   "cell_type": "markdown",
   "metadata": {},
   "source": [
    "### 자료 요청"
   ]
  },
  {
   "cell_type": "code",
   "execution_count": 3,
   "metadata": {
    "collapsed": true,
    "deletable": true,
    "editable": true
   },
   "outputs": [],
   "source": [
    "response = client.describe_spot_price_history(\n",
    "        StartTime=datetime( 2017, 3, 12, 20, 0,0 ),\n",
    "        EndTime=datetime( 2017, 3, 12, 20, 10,0 )\n",
    ")"
   ]
  },
  {
   "cell_type": "markdown",
   "metadata": {},
   "source": [
    "### 반환값 정보"
   ]
  },
  {
   "cell_type": "code",
   "execution_count": 4,
   "metadata": {
    "collapsed": false,
    "deletable": true,
    "editable": true
   },
   "outputs": [
    {
     "name": "stdout",
     "output_type": "stream",
     "text": [
      "반환값의 키값들\n",
      "[u'NextToken', u'SpotPriceHistory', 'ResponseMetadata']\n",
      "다음 자료 존재 여부\n",
      "다음자료는 없습니다.\n",
      "기록된 자료 갯수\n",
      "각 자료의 모습\n",
      "{u'AvailabilityZone': 'ap-northeast-2a',\n",
      " u'InstanceType': 'm4.large',\n",
      " u'ProductDescription': 'Linux/UNIX',\n",
      " u'SpotPrice': '0.036300',\n",
      " u'Timestamp': datetime.datetime(2017, 3, 12, 20, 9, 59, tzinfo=tzutc())}\n"
     ]
    }
   ],
   "source": [
    "print('반환값의 키값들')\n",
    "pprint(response.keys())\n",
    "\n",
    "print('다음 자료 존재 여부')\n",
    "if response['NextToken']:\n",
    "    print(u'그 다음 자료가 존재합니다.')\n",
    "else:\n",
    "    print(u'다음자료는 없습니다.')\n",
    "\n",
    "print('기록된 자료 갯수')\n",
    "history = response['SpotPriceHistory']\n",
    "len(history)\n",
    "\n",
    "print('각 자료의 모습')\n",
    "pprint(history[0])"
   ]
  },
  {
   "cell_type": "markdown",
   "metadata": {},
   "source": [
    "### 자료 구조 변경\n",
    "pandas의 DataFrame에 맞도록 스택형 자료를 병렬로 바꿔준다."
   ]
  },
  {
   "cell_type": "code",
   "execution_count": 5,
   "metadata": {
    "collapsed": false,
    "deletable": true,
    "editable": true
   },
   "outputs": [
    {
     "name": "stdout",
     "output_type": "stream",
     "text": [
      "가용영역\n",
      "set(['ap-northeast-2a', 'ap-northeast-2c'])\n"
     ]
    }
   ],
   "source": [
    "print('가용영역')\n",
    "AZ = [x[u'AvailabilityZone'] for x in history]\n",
    "pprint(set(AZ))"
   ]
  },
  {
   "cell_type": "code",
   "execution_count": 6,
   "metadata": {
    "collapsed": false
   },
   "outputs": [
    {
     "name": "stdout",
     "output_type": "stream",
     "text": [
      "인스턴스 종류\n",
      "set(['c4.2xlarge',\n",
      "     'c4.4xlarge',\n",
      "     'c4.8xlarge',\n",
      "     'c4.large',\n",
      "     'c4.xlarge',\n",
      "     'd2.2xlarge',\n",
      "     'd2.4xlarge',\n",
      "     'd2.8xlarge',\n",
      "     'd2.xlarge',\n",
      "     'i2.2xlarge',\n",
      "     'i2.4xlarge',\n",
      "     'i2.8xlarge',\n",
      "     'i2.xlarge',\n",
      "     'i3.16xlarge',\n",
      "     'i3.2xlarge',\n",
      "     'i3.4xlarge',\n",
      "     'i3.8xlarge',\n",
      "     'i3.large',\n",
      "     'i3.xlarge',\n",
      "     'm4.10xlarge',\n",
      "     'm4.16xlarge',\n",
      "     'm4.2xlarge',\n",
      "     'm4.4xlarge',\n",
      "     'm4.large',\n",
      "     'm4.xlarge',\n",
      "     'r3.2xlarge',\n",
      "     'r3.4xlarge',\n",
      "     'r3.8xlarge',\n",
      "     'r3.large',\n",
      "     'r3.xlarge',\n",
      "     'r4.16xlarge',\n",
      "     'r4.2xlarge',\n",
      "     'r4.4xlarge',\n",
      "     'r4.8xlarge',\n",
      "     'r4.large',\n",
      "     'r4.xlarge',\n",
      "     'x1.16xlarge',\n",
      "     'x1.32xlarge'])\n"
     ]
    }
   ],
   "source": [
    "print('인스턴스 종류')\n",
    "InTy = [x[u'InstanceType'] for x in history]\n",
    "pprint(set(InTy))"
   ]
  },
  {
   "cell_type": "code",
   "execution_count": 7,
   "metadata": {
    "collapsed": false
   },
   "outputs": [
    {
     "name": "stdout",
     "output_type": "stream",
     "text": [
      "제품 설명\n",
      "set(['Linux/UNIX', 'Windows'])\n"
     ]
    }
   ],
   "source": [
    "print('제품 설명')\n",
    "Des = [x[u'ProductDescription'] for x in history]\n",
    "pprint(set(Des))"
   ]
  },
  {
   "cell_type": "code",
   "execution_count": 8,
   "metadata": {
    "collapsed": false
   },
   "outputs": [
    {
     "name": "stdout",
     "output_type": "stream",
     "text": [
      "가격 기록\n",
      "403\n"
     ]
    }
   ],
   "source": [
    "print('가격 기록')\n",
    "Price = [x[u'SpotPrice'] for x in history]\n",
    "pprint(len(Price))"
   ]
  },
  {
   "cell_type": "code",
   "execution_count": 11,
   "metadata": {
    "collapsed": false
   },
   "outputs": [
    {
     "name": "stdout",
     "output_type": "stream",
     "text": [
      "기록 시간\n",
      "datetime.datetime(2017, 3, 12, 12, 18, 29, tzinfo=tzutc())\n",
      "datetime.datetime(2017, 3, 12, 20, 9, 59, tzinfo=tzutc())\n"
     ]
    }
   ],
   "source": [
    "print('기록 시간')\n",
    "TimStp = [x[ u'Timestamp'] for x in history]\n",
    "pprint(min(TimStp))\n",
    "pprint(max(TimStp))"
   ]
  },
  {
   "cell_type": "markdown",
   "metadata": {},
   "source": [
    "요청은 2017년 3월 12일 20시부터 20시 10분까지의 자료를 요청했는데 반환값의 최소 날짜는 3월 12일 12시 18분 29초부터임...\n",
    "관련하여 확인 작업 필요"
   ]
  },
  {
   "cell_type": "code",
   "execution_count": null,
   "metadata": {
    "collapsed": true
   },
   "outputs": [],
   "source": []
  }
 ],
 "metadata": {
  "kernelspec": {
   "display_name": "Python 2",
   "language": "python",
   "name": "python2"
  },
  "language_info": {
   "codemirror_mode": {
    "name": "ipython",
    "version": 2
   },
   "file_extension": ".py",
   "mimetype": "text/x-python",
   "name": "python",
   "nbconvert_exporter": "python",
   "pygments_lexer": "ipython2",
   "version": "2.7.13"
  }
 },
 "nbformat": 4,
 "nbformat_minor": 0
}
